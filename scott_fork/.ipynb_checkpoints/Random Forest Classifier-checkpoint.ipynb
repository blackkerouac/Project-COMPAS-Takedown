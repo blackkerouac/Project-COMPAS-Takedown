{
 "cells": [
  {
   "cell_type": "code",
   "execution_count": 5,
   "metadata": {},
   "outputs": [],
   "source": [
    "## Basic Modules to Import in Each Notebook\n",
    "\n",
    "%matplotlib inline\n",
    "import matplotlib.pyplot as plt\n",
    "import pandas as pd\n",
    "import pandas as pd\n",
    "import os"
   ]
  },
  {
   "cell_type": "code",
   "execution_count": 6,
   "metadata": {},
   "outputs": [],
   "source": [
    "df = pd.read_csv(\"combined2.csv\")\n",
    "# df.head()"
   ]
  },
  {
   "cell_type": "code",
   "execution_count": 7,
   "metadata": {
    "scrolled": true
   },
   "outputs": [
    {
     "name": "stdout",
     "output_type": "stream",
     "text": [
      "id\n",
      "sex\n",
      "age\n",
      "age_cat\n",
      "race\n",
      "juve_fel_count\n",
      "decile_score\n",
      "juv_misd_count\n",
      "juv_other_count\n",
      "prios_count\n",
      "c_charge_degree\n",
      "c_charge_desc\n",
      "violence\n",
      "drugs\n",
      "theft\n",
      "arrest_case_no_charge\n",
      "traffic\n",
      "disorderly_conduct\n",
      "sexual_misconduct\n",
      "is_recid\n",
      "is_violent\n",
      "type_of_assessment\n",
      "decile_score_a\n",
      "score_text\n",
      "v_type_of_assessment\n",
      "v_decile_score_v\n",
      "v_score_text\n",
      "priors_count\n",
      "start\n",
      "end_\n",
      "event\n",
      "two_year_recid\n"
     ]
    }
   ],
   "source": [
    "for col in df.columns: \n",
    "    print(col) "
   ]
  },
  {
   "cell_type": "code",
   "execution_count": 9,
   "metadata": {},
   "outputs": [
    {
     "data": {
      "text/html": [
       "<div>\n",
       "<style scoped>\n",
       "    .dataframe tbody tr th:only-of-type {\n",
       "        vertical-align: middle;\n",
       "    }\n",
       "\n",
       "    .dataframe tbody tr th {\n",
       "        vertical-align: top;\n",
       "    }\n",
       "\n",
       "    .dataframe thead th {\n",
       "        text-align: right;\n",
       "    }\n",
       "</style>\n",
       "<table border=\"1\" class=\"dataframe\">\n",
       "  <thead>\n",
       "    <tr style=\"text-align: right;\">\n",
       "      <th></th>\n",
       "      <th>id</th>\n",
       "      <th>age</th>\n",
       "      <th>juve_fel_count</th>\n",
       "      <th>decile_score</th>\n",
       "      <th>juv_misd_count</th>\n",
       "      <th>juv_other_count</th>\n",
       "      <th>prios_count</th>\n",
       "      <th>violence</th>\n",
       "      <th>drugs</th>\n",
       "      <th>theft</th>\n",
       "      <th>...</th>\n",
       "      <th>c_charge_desc_Voyeurism</th>\n",
       "      <th>c_charge_desc_arrest case no charge</th>\n",
       "      <th>type_of_assessment_Risk of Recidivism</th>\n",
       "      <th>score_text_High</th>\n",
       "      <th>score_text_Low</th>\n",
       "      <th>score_text_Medium</th>\n",
       "      <th>v_type_of_assessment_Risk of Violence</th>\n",
       "      <th>v_score_text_High</th>\n",
       "      <th>v_score_text_Low</th>\n",
       "      <th>v_score_text_Medium</th>\n",
       "    </tr>\n",
       "  </thead>\n",
       "  <tbody>\n",
       "    <tr>\n",
       "      <th>0</th>\n",
       "      <td>1</td>\n",
       "      <td>69</td>\n",
       "      <td>0</td>\n",
       "      <td>1</td>\n",
       "      <td>0</td>\n",
       "      <td>0</td>\n",
       "      <td>0</td>\n",
       "      <td>7</td>\n",
       "      <td>0</td>\n",
       "      <td>0</td>\n",
       "      <td>...</td>\n",
       "      <td>0</td>\n",
       "      <td>0</td>\n",
       "      <td>1</td>\n",
       "      <td>0</td>\n",
       "      <td>1</td>\n",
       "      <td>0</td>\n",
       "      <td>1</td>\n",
       "      <td>0</td>\n",
       "      <td>1</td>\n",
       "      <td>0</td>\n",
       "    </tr>\n",
       "    <tr>\n",
       "      <th>1</th>\n",
       "      <td>3</td>\n",
       "      <td>34</td>\n",
       "      <td>0</td>\n",
       "      <td>3</td>\n",
       "      <td>0</td>\n",
       "      <td>0</td>\n",
       "      <td>0</td>\n",
       "      <td>7</td>\n",
       "      <td>0</td>\n",
       "      <td>0</td>\n",
       "      <td>...</td>\n",
       "      <td>0</td>\n",
       "      <td>0</td>\n",
       "      <td>1</td>\n",
       "      <td>0</td>\n",
       "      <td>1</td>\n",
       "      <td>0</td>\n",
       "      <td>1</td>\n",
       "      <td>0</td>\n",
       "      <td>1</td>\n",
       "      <td>0</td>\n",
       "    </tr>\n",
       "    <tr>\n",
       "      <th>2</th>\n",
       "      <td>4</td>\n",
       "      <td>24</td>\n",
       "      <td>0</td>\n",
       "      <td>4</td>\n",
       "      <td>0</td>\n",
       "      <td>1</td>\n",
       "      <td>4</td>\n",
       "      <td>0</td>\n",
       "      <td>6</td>\n",
       "      <td>0</td>\n",
       "      <td>...</td>\n",
       "      <td>0</td>\n",
       "      <td>0</td>\n",
       "      <td>1</td>\n",
       "      <td>0</td>\n",
       "      <td>1</td>\n",
       "      <td>0</td>\n",
       "      <td>1</td>\n",
       "      <td>0</td>\n",
       "      <td>1</td>\n",
       "      <td>0</td>\n",
       "    </tr>\n",
       "    <tr>\n",
       "      <th>3</th>\n",
       "      <td>5</td>\n",
       "      <td>23</td>\n",
       "      <td>0</td>\n",
       "      <td>8</td>\n",
       "      <td>1</td>\n",
       "      <td>0</td>\n",
       "      <td>1</td>\n",
       "      <td>0</td>\n",
       "      <td>6</td>\n",
       "      <td>0</td>\n",
       "      <td>...</td>\n",
       "      <td>0</td>\n",
       "      <td>0</td>\n",
       "      <td>1</td>\n",
       "      <td>1</td>\n",
       "      <td>0</td>\n",
       "      <td>0</td>\n",
       "      <td>1</td>\n",
       "      <td>0</td>\n",
       "      <td>0</td>\n",
       "      <td>1</td>\n",
       "    </tr>\n",
       "    <tr>\n",
       "      <th>4</th>\n",
       "      <td>6</td>\n",
       "      <td>43</td>\n",
       "      <td>0</td>\n",
       "      <td>1</td>\n",
       "      <td>0</td>\n",
       "      <td>0</td>\n",
       "      <td>2</td>\n",
       "      <td>0</td>\n",
       "      <td>0</td>\n",
       "      <td>0</td>\n",
       "      <td>...</td>\n",
       "      <td>0</td>\n",
       "      <td>1</td>\n",
       "      <td>1</td>\n",
       "      <td>0</td>\n",
       "      <td>1</td>\n",
       "      <td>0</td>\n",
       "      <td>1</td>\n",
       "      <td>0</td>\n",
       "      <td>1</td>\n",
       "      <td>0</td>\n",
       "    </tr>\n",
       "  </tbody>\n",
       "</table>\n",
       "<p>5 rows × 481 columns</p>\n",
       "</div>"
      ],
      "text/plain": [
       "   id  age  juve_fel_count  decile_score  juv_misd_count  juv_other_count  \\\n",
       "0   1   69               0             1               0                0   \n",
       "1   3   34               0             3               0                0   \n",
       "2   4   24               0             4               0                1   \n",
       "3   5   23               0             8               1                0   \n",
       "4   6   43               0             1               0                0   \n",
       "\n",
       "   prios_count  violence  drugs  theft  ...  c_charge_desc_Voyeurism  \\\n",
       "0            0         7      0      0  ...                        0   \n",
       "1            0         7      0      0  ...                        0   \n",
       "2            4         0      6      0  ...                        0   \n",
       "3            1         0      6      0  ...                        0   \n",
       "4            2         0      0      0  ...                        0   \n",
       "\n",
       "   c_charge_desc_arrest case no charge  type_of_assessment_Risk of Recidivism  \\\n",
       "0                                    0                                      1   \n",
       "1                                    0                                      1   \n",
       "2                                    0                                      1   \n",
       "3                                    0                                      1   \n",
       "4                                    1                                      1   \n",
       "\n",
       "   score_text_High  score_text_Low  score_text_Medium  \\\n",
       "0                0               1                  0   \n",
       "1                0               1                  0   \n",
       "2                0               1                  0   \n",
       "3                1               0                  0   \n",
       "4                0               1                  0   \n",
       "\n",
       "   v_type_of_assessment_Risk of Violence  v_score_text_High  v_score_text_Low  \\\n",
       "0                                      1                  0                 1   \n",
       "1                                      1                  0                 1   \n",
       "2                                      1                  0                 1   \n",
       "3                                      1                  0                 0   \n",
       "4                                      1                  0                 1   \n",
       "\n",
       "   v_score_text_Medium  \n",
       "0                    0  \n",
       "1                    0  \n",
       "2                    0  \n",
       "3                    1  \n",
       "4                    0  \n",
       "\n",
       "[5 rows x 481 columns]"
      ]
     },
     "execution_count": 9,
     "metadata": {},
     "output_type": "execute_result"
    }
   ],
   "source": [
    "smallerDF = pd.get_dummies(df)\n",
    "smallerDF.head()"
   ]
  },
  {
   "cell_type": "code",
   "execution_count": 10,
   "metadata": {},
   "outputs": [
    {
     "name": "stdout",
     "output_type": "stream",
     "text": [
      "(7185, 12) (7185, 1)\n"
     ]
    }
   ],
   "source": [
    "X = smallerDF[['age', 'juve_fel_count', 'priors_count', 'violence', 'drugs', 'theft', 'arrest_case_no_charge', 'traffic', 'disorderly_conduct', 'sexual_misconduct', 'sex_Female', 'sex_Male']]\n",
    "y = smallerDF[['two_year_recid']].values.reshape(-1, 1)\n",
    "# y = smallerDF[['two_year_recid']]\n",
    "print(X.shape, y.shape)"
   ]
  },
  {
   "cell_type": "code",
   "execution_count": 11,
   "metadata": {},
   "outputs": [],
   "source": [
    "feature_names = X.columns"
   ]
  },
  {
   "cell_type": "code",
   "execution_count": 12,
   "metadata": {},
   "outputs": [],
   "source": [
    "from sklearn.model_selection import train_test_split\n",
    "from sklearn import tree\n",
    "X_train, X_test, y_train, y_test = train_test_split(X, y, random_state=42)"
   ]
  },
  {
   "cell_type": "code",
   "execution_count": 13,
   "metadata": {},
   "outputs": [
    {
     "data": {
      "text/plain": [
       "0.6215915414579856"
      ]
     },
     "execution_count": 13,
     "metadata": {},
     "output_type": "execute_result"
    }
   ],
   "source": [
    "clf = tree.DecisionTreeClassifier()\n",
    "clf = clf.fit(X_train, y_train)\n",
    "clf.score(X_test, y_test)\n",
    "# this is my r2 score"
   ]
  },
  {
   "cell_type": "code",
   "execution_count": 14,
   "metadata": {},
   "outputs": [
    {
     "name": "stderr",
     "output_type": "stream",
     "text": [
      "C:\\Users\\scott\\Anaconda3\\envs\\pythondata\\lib\\site-packages\\ipykernel_launcher.py:3: DataConversionWarning: A column-vector y was passed when a 1d array was expected. Please change the shape of y to (n_samples,), for example using ravel().\n",
      "  This is separate from the ipykernel package so we can avoid doing imports until\n"
     ]
    },
    {
     "data": {
      "text/plain": [
       "0.6421814134668893"
      ]
     },
     "execution_count": 14,
     "metadata": {},
     "output_type": "execute_result"
    }
   ],
   "source": [
    "from sklearn.ensemble import RandomForestClassifier\n",
    "rf = RandomForestClassifier(n_estimators=200)\n",
    "rf = rf.fit(X_train, y_train)\n",
    "rf.score(X_test, y_test)"
   ]
  },
  {
   "cell_type": "code",
   "execution_count": 15,
   "metadata": {},
   "outputs": [
    {
     "data": {
      "text/plain": [
       "[(0.5558933099541958, 'age'),\n",
       " (0.33544060588324215, 'priors_count'),\n",
       " (0.022836298913657647, 'juve_fel_count'),\n",
       " (0.012658851342994127, 'drugs'),\n",
       " (0.01119372139264221, 'violence'),\n",
       " (0.011061778756758718, 'arrest_case_no_charge'),\n",
       " (0.009977598474763195, 'theft'),\n",
       " (0.009710660205319082, 'traffic'),\n",
       " (0.00959365994241162, 'sex_Female'),\n",
       " (0.00930864892619545, 'sex_Male'),\n",
       " (0.009175977600130156, 'disorderly_conduct'),\n",
       " (0.00314888860768984, 'sexual_misconduct')]"
      ]
     },
     "execution_count": 15,
     "metadata": {},
     "output_type": "execute_result"
    }
   ],
   "source": [
    "sorted(zip(rf.feature_importances_, feature_names), reverse=True)"
   ]
  },
  {
   "cell_type": "code",
   "execution_count": null,
   "metadata": {},
   "outputs": [],
   "source": []
  }
 ],
 "metadata": {
  "kernelspec": {
   "display_name": "Python [conda env:PythonData] *",
   "language": "python",
   "name": "conda-env-PythonData-py"
  },
  "language_info": {
   "codemirror_mode": {
    "name": "ipython",
    "version": 3
   },
   "file_extension": ".py",
   "mimetype": "text/x-python",
   "name": "python",
   "nbconvert_exporter": "python",
   "pygments_lexer": "ipython3",
   "version": "3.6.8"
  }
 },
 "nbformat": 4,
 "nbformat_minor": 2
}
